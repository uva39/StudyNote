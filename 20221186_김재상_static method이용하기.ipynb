{
 "cells": [
  {
   "cell_type": "code",
   "execution_count": null,
   "metadata": {},
   "outputs": [],
   "source": [
    "from datetime import datetime, timedelta\n",
    "\n",
    "class Date():\n",
    "    def __init__(self, date) -> None:\n",
    "        self.date = date\n",
    "\n",
    "    @staticmethod\n",
    "    def now():\n",
    "        return Date(\"today\")\n",
    "    \n",
    "    @staticmethod\n",
    "    def yesterday(date):\n",
    "        temp = datetime.strptime(date,'%Y, %m, %d')\n",
    "        temp += timedelta(days=-1)\n",
    "        return Date(f'{temp.year}, {temp.month}, {temp.day}')\n",
    "\n",
    "    def show(self):\n",
    "        print(self.date)"
   ]
  },
  {
   "cell_type": "code",
   "execution_count": null,
   "metadata": {},
   "outputs": [
    {
     "name": "stdout",
     "output_type": "stream",
     "text": [
      "2022, 4, 7\n",
      "today\n",
      "today\n",
      "2022, 4, 6\n",
      "2022, 4, 6\n"
     ]
    }
   ],
   "source": [
    "a = Date(\"2022, 4, 7\")\n",
    "a.show()\n",
    "b = Date.now()\n",
    "b.show()\n",
    "print(b.date)\n",
    "c = Date.yesterday(\"2022, 4, 7\")\n",
    "c.show()\n",
    "print(c.date)\n"
   ]
  }
 ],
 "metadata": {
  "kernelspec": {
   "display_name": "Python 3.10.7 64-bit",
   "language": "python",
   "name": "python3"
  },
  "language_info": {
   "name": "python",
   "version": "3.10.7"
  },
  "orig_nbformat": 4,
  "vscode": {
   "interpreter": {
    "hash": "21296890ed30beda34826074664c572761cdb09121e335e8a6831529b6333bf5"
   }
  }
 },
 "nbformat": 4,
 "nbformat_minor": 2
}
