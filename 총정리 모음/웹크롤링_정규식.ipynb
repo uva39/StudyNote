{
 "cells": [
  {
   "cell_type": "code",
   "execution_count": null,
   "metadata": {},
   "outputs": [],
   "source": [
    "# 필요한 모듈 임포트\n",
    "import requests\n",
    "import pandas as pd\n",
    "import numpy as np\n",
    "import matplotlib\n",
    "import matplotlib.pyplot as plt\n",
    "import seaborn as sns\n",
    "from bs4 import *\n",
    "import ssl\n",
    "ssl._create_default_https_context = ssl._create_unverified_context\n",
    "import warnings\n",
    "import re\n",
    "warnings.filterwarnings('ignore')\n",
    "\n",
    "# yy, mm만 바꿔서 날짜조절. mm에서 09가 아니라 9인 거 확인\n",
    "web_url = \"https://www.weather.go.kr/w/obs-climate/land/past-obs/obs-by-day.do?stn=108&yy=2022&mm=9&obs=1\"\n",
    "\n",
    "# 크롤링으로 데이터 가져오기\n",
    "req = requests.get(web_url, headers={\"User-agent\":\"Mozilla/5.0\"})\n",
    "soup = BeautifulSoup(req.text, 'html.parser')\n",
    "trList = list(map(lambda x:x.get_text(), soup.find_all('tr')))\n",
    "\n",
    "# 데이터 예쁘게 깎아서 담기\n",
    "days, data = [], []\n",
    "for row in trList[5::2]:\n",
    "    data.extend([float(*re.findall(r'\\d+.\\d+', item)) for item in row.split('\\n') if len(item) and item != '\\xa0'])\n",
    "for row in trList[4::2]:\n",
    "    days.extend([item for item in row.split('\\n') if len(item) and item != '\\xa0'])\n",
    "\n",
    "# 판다스 데이터프레임에 담고 출력. 이건 주피터노트북 환경이라 df 했는데, .py에선 print(df) 해줘야함\n",
    "df = pd.DataFrame(index=days, columns=['평균기온', '최고기온', '최저기온', '평균운량', '일강수량'])\n",
    "df['평균기온'] = data[0::5]\n",
    "df['최고기온'] = data[1::5]\n",
    "df['최저기온'] = data[2::5]\n",
    "df['평균운량'] = data[3::5]\n",
    "df['일강수량'] = data[4::5]\n",
    "df"
   ]
  }
 ],
 "metadata": {
  "kernelspec": {
   "display_name": "Python 3.10.7 64-bit",
   "language": "python",
   "name": "python3"
  },
  "language_info": {
   "name": "python",
   "version": "3.10.7"
  },
  "orig_nbformat": 4,
  "vscode": {
   "interpreter": {
    "hash": "21296890ed30beda34826074664c572761cdb09121e335e8a6831529b6333bf5"
   }
  }
 },
 "nbformat": 4,
 "nbformat_minor": 2
}
