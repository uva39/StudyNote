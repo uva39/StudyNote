{
 "cells": [
  {
   "cell_type": "code",
   "execution_count": null,
   "metadata": {},
   "outputs": [],
   "source": [
    "%matplotlib inline\n",
    "import pandas as pd\n",
    "import numpy as np\n",
    "\n",
    "from autoviz.AutoViz_Class import AutoViz_Class\n",
    "import matplotlib.pyplot as plt\n",
    "plt.style.use(\"dark_background\")\n",
    "\n",
    "AV = AutoViz_Class()\n",
    "train = pd.read_csv(\"train.csv\")\n",
    "test = pd.read_csv(\"test.csv\")\n",
    "\n",
    "AV.AutoViz(\n",
    "    filename='',\n",
    "    dfte=train,\n",
    "    depVar='count',\n",
    "    verbose=2,\n",
    "    max_rows_analyzed=train.shape[0],\n",
    "    max_cols_analyzed=train.shape[1]\n",
    ")"
   ]
  }
 ],
 "metadata": {
  "kernelspec": {
   "display_name": "Python 3.10.7 64-bit",
   "language": "python",
   "name": "python3"
  },
  "language_info": {
   "name": "python",
   "version": "3.10.7"
  },
  "orig_nbformat": 4,
  "vscode": {
   "interpreter": {
    "hash": "21296890ed30beda34826074664c572761cdb09121e335e8a6831529b6333bf5"
   }
  }
 },
 "nbformat": 4,
 "nbformat_minor": 2
}
