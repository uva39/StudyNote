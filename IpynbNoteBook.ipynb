{
 "cells": [
  {
   "cell_type": "code",
   "execution_count": 21,
   "metadata": {},
   "outputs": [
    {
     "data": {
      "text/plain": [
       "<module 'NoteBook' from 'c:\\\\Users\\\\36dav\\\\OneDrive\\\\바탕 화면\\\\StudyNote-1\\\\NoteBook.py'>"
      ]
     },
     "execution_count": 21,
     "metadata": {},
     "output_type": "execute_result"
    }
   ],
   "source": [
    "import NoteBook\n",
    "from time import time\n",
    "from importlib import reload\n",
    "reload(NoteBook)"
   ]
  },
  {
   "cell_type": "code",
   "execution_count": 22,
   "metadata": {},
   "outputs": [
    {
     "name": "stdout",
     "output_type": "stream",
     "text": [
      "i = 49999, str 덧셈: 64.9158182144165, f-string: 29.37182855606079, 서식 지정자: 47.0123660564422617456448"
     ]
    }
   ],
   "source": [
    "t1, t2, t3 = 0, 0, 0\n",
    "\n",
    "for i in range(50000):\n",
    "    start = time()\n",
    "    NoteBook.case1(1000)\n",
    "    end = time()\n",
    "    t1 += end-start\n",
    "\n",
    "    start = time()\n",
    "    NoteBook.case2(1000)\n",
    "    end = time()\n",
    "    t2 += end-start\n",
    "\n",
    "    start = time()\n",
    "    NoteBook.case3(1000)\n",
    "    end = time()\n",
    "    t3 += end-start\n",
    "    print(f\"\\r{i = }, str 덧셈: {t1}, f-string: {t2}, 서식 지정자: {t3}\", end='')"
   ]
  }
 ],
 "metadata": {
  "kernelspec": {
   "display_name": "Python 3.10.7 64-bit",
   "language": "python",
   "name": "python3"
  },
  "language_info": {
   "codemirror_mode": {
    "name": "ipython",
    "version": 3
   },
   "file_extension": ".py",
   "mimetype": "text/x-python",
   "name": "python",
   "nbconvert_exporter": "python",
   "pygments_lexer": "ipython3",
   "version": "3.10.7"
  },
  "orig_nbformat": 4,
  "vscode": {
   "interpreter": {
    "hash": "21296890ed30beda34826074664c572761cdb09121e335e8a6831529b6333bf5"
   }
  }
 },
 "nbformat": 4,
 "nbformat_minor": 2
}
